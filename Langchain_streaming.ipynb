{
 "cells": [
  {
   "cell_type": "code",
   "execution_count": 1,
   "id": "7fe0ee4a",
   "metadata": {},
   "outputs": [],
   "source": [
    "from langchain_ollama import ChatOllama\n",
    "import ollama"
   ]
  },
  {
   "cell_type": "code",
   "execution_count": 2,
   "id": "08ae9f73",
   "metadata": {},
   "outputs": [
    {
     "name": "stdout",
     "output_type": "stream",
     "text": [
      "granite-embedding:278m\n",
      "gemma3:latest\n",
      "qwen3:latest\n",
      "qwen2.5-coder:7b\n",
      "hf.co/mradermacher/DeepSeek-R1-Distill-Qwen-7B-Uncensored-i1-GGUF:Q4_K_M\n"
     ]
    }
   ],
   "source": [
    "def show_ollama_models():\n",
    "    for i in ollama.list().models:\n",
    "        print(i.model)\n",
    "show_ollama_models()"
   ]
  },
  {
   "cell_type": "code",
   "execution_count": 2,
   "id": "63e35e1a",
   "metadata": {},
   "outputs": [],
   "source": [
    "gemma = ChatOllama( model=\"gemma3:latest\"  )"
   ]
  },
  {
   "cell_type": "code",
   "execution_count": 3,
   "id": "b5955911",
   "metadata": {},
   "outputs": [],
   "source": [
    "from langchain_core.output_parsers import StrOutputParser\n",
    "from langchain_core.prompts import ChatPromptTemplate\n",
    "\n",
    "prompt = ChatPromptTemplate.from_template(\"tell me a joke about {topic}\")\n",
    "parser = StrOutputParser()\n",
    "chain = prompt | gemma | parser\n"
   ]
  },
  {
   "cell_type": "code",
   "execution_count": 5,
   "id": "a0a3fe76",
   "metadata": {},
   "outputs": [
    {
     "name": "stdout",
     "output_type": "stream",
     "text": [
      "Why did the parrot cross the playground? \n",
      "\n",
      "To get to the other slide! \n",
      "\n",
      "---\n",
      "\n",
      "Would you like to hear another joke? 😊"
     ]
    }
   ],
   "source": [
    "async for chunk in chain.astream({\"topic\": \"parrot\"}):\n",
    "    print(chunk, end=\"\", flush=True)"
   ]
  },
  {
   "cell_type": "code",
   "execution_count": null,
   "id": "793ce55b",
   "metadata": {},
   "outputs": [],
   "source": []
  }
 ],
 "metadata": {
  "kernelspec": {
   "display_name": "Python 3",
   "language": "python",
   "name": "python3"
  },
  "language_info": {
   "codemirror_mode": {
    "name": "ipython",
    "version": 3
   },
   "file_extension": ".py",
   "mimetype": "text/x-python",
   "name": "python",
   "nbconvert_exporter": "python",
   "pygments_lexer": "ipython3",
   "version": "3.12.10"
  }
 },
 "nbformat": 4,
 "nbformat_minor": 5
}
