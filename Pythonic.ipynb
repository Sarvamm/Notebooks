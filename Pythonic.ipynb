{
 "cells": [
  {
   "cell_type": "markdown",
   "id": "bea4a7d3-d738-4c55-af31-815cc133918d",
   "metadata": {},
   "source": [
    "# Being Pythonic"
   ]
  },
  {
   "cell_type": "markdown",
   "id": "9442e775-4b7b-470a-b963-3d32bce37fb4",
   "metadata": {},
   "source": [
    "## 1. Data Structures"
   ]
  },
  {
   "cell_type": "markdown",
   "id": "2b2a8a8e-c6ce-4c3a-8ec5-6696f4b0b6f6",
   "metadata": {},
   "source": [
    "### a. Lists"
   ]
  },
  {
   "cell_type": "markdown",
   "id": "522cae28-237a-4573-b286-efdd0d48a805",
   "metadata": {},
   "source": [
    "#### Even Odd"
   ]
  },
  {
   "cell_type": "code",
   "execution_count": 6,
   "id": "3940ca86-c360-41e8-87e3-f044e4116f5f",
   "metadata": {},
   "outputs": [
    {
     "name": "stdout",
     "output_type": "stream",
     "text": [
      "[0, 2, 4, 6, 8, 10, 12, 14, 16, 18, 20]\n",
      "[1, 3, 5, 7, 9, 11, 13, 15, 17, 19]\n"
     ]
    }
   ],
   "source": [
    "evenlist = list(range(0,21,2)); print(evenlist)\n",
    "oddlist = list(range(1,21,2)); print(oddlist)"
   ]
  },
  {
   "cell_type": "markdown",
   "id": "d9db4b43-ac41-4f93-93ea-17a0aafcf9be",
   "metadata": {},
   "source": [
    "#### Random"
   ]
  },
  {
   "cell_type": "code",
   "execution_count": 193,
   "id": "75fe1e41-f1cc-4947-a221-f7a85ab4cc12",
   "metadata": {},
   "outputs": [
    {
     "name": "stdout",
     "output_type": "stream",
     "text": [
      "list 1 = [-6, 0, -3, -10, -2, 7, 4, 3, -4, -9] \n",
      "list 2 = [6, 3, 7, 10, 10, 5, 2, 6, 8, 10]\n",
      "list 3 = [0, 0, 1, 0, 1, 1, 0, 0, 1, 0]\n",
      "list 4 = [True, True, False, False, True, False, False, False, True, True]\n"
     ]
    }
   ],
   "source": [
    "import numpy as np; import random as rd;\n",
    "\n",
    "gen = lambda x: [rd.randint(-10,10) for _ in range(x)]\n",
    "genp = lambda x: [rd.randint(2,10) for _ in range(x)]\n",
    "genb = lambda x: [rd.choice((0,1)) for _ in range(x)]\n",
    "gent = lambda x: [rd.choice((True,False)) for _ in range(x)]\n",
    "\n",
    "l1,l2,l3,l4 = gen(10), genp(10), genb(10), gent(10) \n",
    "print(f'list 1 = {l1} \\nlist 2 = {l2}\\nlist 3 = {l3}\\nlist 4 = {l4}' )\n"
   ]
  },
  {
   "cell_type": "markdown",
   "id": "a7d032cc-85da-4a01-824f-d95af5040b71",
   "metadata": {},
   "source": [
    "#### List Ops"
   ]
  },
  {
   "cell_type": "code",
   "execution_count": 10,
   "id": "d4681be0-c457-4109-bf3d-c6e930002f62",
   "metadata": {},
   "outputs": [
    {
     "name": "stdout",
     "output_type": "stream",
     "text": [
      "nums = [0, 1, 2, 3, 4, 5, 6, 7, 8, 9, 10, 11, 12, 13, 14, 15, 16, 17, 18, 19, 20]\n",
      "Sliced and Diced: [0, 2, 4, 0, 2, 4, 0, 2, 4] \n",
      "sorted and reversed = [4, 4, 4, 2, 2, 2, 0, 0, 0]\n"
     ]
    }
   ],
   "source": [
    "nums = evenlist + oddlist; nums.sort(); print(f'nums = {nums}')\n",
    "print(f'Sliced and Diced: { (sld := nums[0:5:2]*3) } ')\n",
    "sld.sort(reverse=True); print(f'sorted and reversed = {sld}')"
   ]
  },
  {
   "cell_type": "markdown",
   "id": "b14a8833-3489-44b6-88ce-d4a2229e8e26",
   "metadata": {},
   "source": [
    "### b. Tuples"
   ]
  },
  {
   "cell_type": "code",
   "execution_count": 12,
   "id": "e238f320-bc58-49e8-90f6-2393884bcd29",
   "metadata": {},
   "outputs": [
    {
     "name": "stdout",
     "output_type": "stream",
     "text": [
      "empty tuple = ()\n",
      "single = (1,)\n",
      "tuple = (2, 5, 8, 0)\n",
      "2 ~ 5 ~ 8 ~ 0\n"
     ]
    }
   ],
   "source": [
    "emptyt = (); print(f'empty tuple = {emptyt}')\n",
    "single = 1, ; print(f'single = {single}')\n",
    "tup = 2,5,8,0, ; print(f'tuple = {tup}')\n",
    "print(*tup, sep=' ~ ')"
   ]
  },
  {
   "cell_type": "markdown",
   "id": "57899b8d-ef1a-45b5-a6de-25e6808134a0",
   "metadata": {},
   "source": [
    "### c. Sets"
   ]
  },
  {
   "cell_type": "code",
   "execution_count": 14,
   "id": "b5b5614f-b55d-44f5-8ff8-0358b5722b05",
   "metadata": {},
   "outputs": [
    {
     "name": "stdout",
     "output_type": "stream",
     "text": [
      "set1 = {8, 10, 3}             set2 = {2, 5, 6, 7, 10}\n",
      "\n",
      "Union = {2, 3, 5, 6, 7, 8, 10}\n",
      "Intersection = {10}\n",
      "Difference (set1 - set2) = {8, 3}\n",
      "Difference (set2 - set1) = {2, 5, 6, 7}\n",
      "Symmetric Difference = {2, 3, 5, 6, 7, 8}\n"
     ]
    }
   ],
   "source": [
    "set1 , set2 = set(genp(4)) , set(genp(5)); print(f'set1 = {set1}             set2 = {set2}\\n')\n",
    "\n",
    "print(f'Union = {set1 | set2}')\n",
    "print(f'Intersection = {set1 & set2}')\n",
    "print(f'Difference (set1 - set2) = {set1 - set2}')\n",
    "print(f'Difference (set2 - set1) = {set2 - set1}')\n",
    "print(f'Symmetric Difference = {set1 ^ set2}')"
   ]
  },
  {
   "cell_type": "markdown",
   "id": "faf654f7-1f82-41e4-a734-9f14b7b0f5d6",
   "metadata": {},
   "source": [
    "### d. Dictionaries"
   ]
  },
  {
   "cell_type": "code",
   "execution_count": 16,
   "id": "7edc3f68-8df3-4f30-ab2e-68371ab652c4",
   "metadata": {},
   "outputs": [
    {
     "name": "stdout",
     "output_type": "stream",
     "text": [
      "{0: 'a', 1: 'b', 2: 'c', 3: 'd', 4: 'e'}\n"
     ]
    }
   ],
   "source": [
    "d = {k:v for k,v in enumerate(['a','b','c','d','e'])}; print(d)"
   ]
  },
  {
   "cell_type": "markdown",
   "id": "5033e70a-07d3-4881-bfd8-943ca49a41af",
   "metadata": {},
   "source": [
    "#### Switching key values in a dict"
   ]
  },
  {
   "cell_type": "code",
   "execution_count": 18,
   "id": "ca1bfe3b-af7a-4d8d-85da-fa154cfac123",
   "metadata": {},
   "outputs": [
    {
     "name": "stdout",
     "output_type": "stream",
     "text": [
      "{'a': 1, 'b': 2, 'c': 3}\n",
      "{1: 'a', 2: 'b', 3: 'c'}\n"
     ]
    }
   ],
   "source": [
    "d = {k:v for k,v in zip(['a','b','c'], [1,2,3])}; print(d) #generating a dict\n",
    "switched = {v:k for k,v in d.items()}; print(switched) #switching elements"
   ]
  },
  {
   "cell_type": "markdown",
   "id": "13917829-69a8-4d80-9448-9b38a5ab8c59",
   "metadata": {},
   "source": [
    "#### Logs of numbers"
   ]
  },
  {
   "cell_type": "code",
   "execution_count": 19,
   "id": "d529d495-bae3-4015-92be-a00b188475a5",
   "metadata": {},
   "outputs": [
    {
     "name": "stdout",
     "output_type": "stream",
     "text": [
      "{'log of 2': 0.30102999566398114, 'log of 3': 0.47712125471966244, 'log of 4': 0.6020599913279623, 'log of 5': 0.6989700043360187}\n"
     ]
    }
   ],
   "source": [
    "import math as m\n",
    "log = lambda x: m.log(x,10);\n",
    "nums = list(range(2,6));\n",
    "\n",
    "d = { 'log of '+str(k):v for k,v in zip(nums , [log(x) for x in nums ] ) }; print(d); "
   ]
  },
  {
   "cell_type": "markdown",
   "id": "701103cb-2aa6-4ad6-8de3-81a9e479197d",
   "metadata": {},
   "source": [
    "#### Merging and Updating"
   ]
  },
  {
   "cell_type": "code",
   "execution_count": 20,
   "id": "ba6b6a4e-4851-40dd-aebd-c7b657c6acac",
   "metadata": {},
   "outputs": [
    {
     "name": "stdout",
     "output_type": "stream",
     "text": [
      "d1 = {3: 'OLD', 6: 'OLD', 9: 'OLD', 4: 'OLD', 8: 'OLD', 2: 'OLD'} \n",
      "d2 = {8: 'NEW', 10: 'NEW', 2: 'NEW', 6: 'NEW'}\n",
      "\n",
      "merged = {3: 'OLD', 6: 'NEW', 9: 'OLD', 4: 'OLD', 8: 'NEW', 2: 'NEW', 10: 'NEW'}\n",
      "updated d1 = {3: 'OLD', 6: 'NEW', 9: 'OLD', 4: 'OLD', 8: 'NEW', 2: 'NEW', 10: 'NEW'}\n"
     ]
    }
   ],
   "source": [
    "d1 , d2 = { k:'OLD' for k in genp(6) } , { k:'NEW' for k in genp(6) }\n",
    "print(f'd1 = {d1} \\nd2 = {d2}\\n')\n",
    "\n",
    "print( f'merged = {d1 | d2}' )\n",
    "d1 |= d2\n",
    "print( f'updated d1 = {d1}' )"
   ]
  },
  {
   "cell_type": "markdown",
   "id": "30556d39-f445-4fcf-84ff-c7b675b1d77a",
   "metadata": {},
   "source": [
    "### Unpacking"
   ]
  },
  {
   "cell_type": "code",
   "execution_count": 22,
   "id": "a4e294dd-d347-446f-b3e3-469012e5a21b",
   "metadata": {},
   "outputs": [
    {
     "name": "stdout",
     "output_type": "stream",
     "text": [
      "3 1 2\n"
     ]
    }
   ],
   "source": [
    "a,b,c  =  1,2,3; \n",
    "b,c,a = a,b,c; print(a,b,c);"
   ]
  },
  {
   "cell_type": "code",
   "execution_count": 23,
   "id": "e9a7e06c-ed52-413d-bbdd-f64c69b7723c",
   "metadata": {},
   "outputs": [
    {
     "name": "stdout",
     "output_type": "stream",
     "text": [
      "1 3 2 4\n"
     ]
    }
   ],
   "source": [
    "x,y,z,w = {\n",
    "    1:2, 3:4,\n",
    "    2:3, 4:5\n",
    "}\n",
    "print(x,y,z,w)"
   ]
  },
  {
   "cell_type": "markdown",
   "id": "0e44d2b6-df94-427d-a813-028434720e7e",
   "metadata": {},
   "source": [
    "## 2. Methods\n"
   ]
  },
  {
   "cell_type": "markdown",
   "id": "93945b26-20e8-4da7-801a-4c1bf7f5b572",
   "metadata": {},
   "source": [
    "#### sorted( iterable, key=None, reverse=False )\r\n"
   ]
  },
  {
   "cell_type": "code",
   "execution_count": 26,
   "id": "3d6ae81d-608b-4872-bf61-dd03339a6c0a",
   "metadata": {},
   "outputs": [
    {
     "name": "stdout",
     "output_type": "stream",
     "text": [
      "nums = [2, 2, 10, 6, 5, 8, 3, 9, 10, 7, 3, 10, 10, 5]\n",
      "nums_sorted in reverse = [10, 10, 10, 10, 9, 8, 7, 6, 5, 5, 3, 3, 2, 2]\n",
      "\n"
     ]
    }
   ],
   "source": [
    "nums = genp(14); print(f'nums = {nums}')\n",
    "nums_sorted = sorted( nums , reverse=bool(1) ) ; print(f'nums_sorted in reverse = {nums_sorted}\\n')"
   ]
  },
  {
   "cell_type": "code",
   "execution_count": 27,
   "id": "94acdd73-3635-47a3-9b86-b1efd4a3fb44",
   "metadata": {},
   "outputs": [
    {
     "name": "stdout",
     "output_type": "stream",
     "text": [
      "{9: 'b', 6: 't', 2: 'r', 5: 'i', 4: 'f'} \n",
      "\n",
      "sorted by keys: [2, 4, 5, 6, 9]\n",
      "sorted by values: ['b', 'f', 'i', 'r', 't']\n",
      "just sorted: [(2, 'r'), (4, 'f'), (5, 'i'), (6, 't'), (9, 'b')]\n"
     ]
    }
   ],
   "source": [
    "d = {k:v for k,v in zip( genp(6) , [rd.choice('qwertyuiopasdfghjklzxcvbnm') for i in range(6)]) }; print(d,'\\n')\n",
    "ds1 = sorted( d.keys() ) ; ds2 = sorted( d.values() ); print(f'sorted by keys: {ds1}\\nsorted by values: {ds2}')\n",
    "dss = sorted( d.items() ); print(f'just sorted: {dss}')"
   ]
  },
  {
   "cell_type": "markdown",
   "id": "5c68b975-2764-4b80-b8f2-d3fe217706bd",
   "metadata": {},
   "source": [
    "#### map( function, iterable1, iterable2...)\r\n"
   ]
  },
  {
   "cell_type": "code",
   "execution_count": 29,
   "id": "d581bb1a-9683-49e4-abb0-9a9ad35004c7",
   "metadata": {},
   "outputs": [
    {
     "name": "stdout",
     "output_type": "stream",
     "text": [
      "nor = [8, 2, 10, 8, 8]\n",
      "nor 2  = [16, 4, 20, 16, 16]\n",
      "norby2 = [4, 1, 5, 4, 4]\n",
      "nor in binary = [1000, 10, 1010, 1000, 1000]\n"
     ]
    }
   ],
   "source": [
    "nor = genp(5); print(f'nor = {nor}')\n",
    "nor2 = list(map( lambda x: x*2 , nor )); print(f'nor 2  = {nor2}')\n",
    "norby2 = list(map( lambda x: x//2 , nor )); print(f'norby2 = {norby2}')\n",
    "norb = list(map( lambda x: int(str(bin(x))[2:]) , nor )); print(f'nor in binary = {norb}')"
   ]
  },
  {
   "cell_type": "markdown",
   "id": "d19e640c-dde0-467b-b6ee-c40549dde3d5",
   "metadata": {},
   "source": [
    "#### filter( function, iterable )\r\n"
   ]
  },
  {
   "cell_type": "code",
   "execution_count": 31,
   "id": "a58e9e71-1fd6-4edf-b0ca-7219f92128cc",
   "metadata": {},
   "outputs": [
    {
     "name": "stdout",
     "output_type": "stream",
     "text": [
      "nums = [2, 2, 10, 6, 5, 8, 3, 9, 10, 7, 3, 10, 10, 5]\n",
      "all nums = [2, 2, 10, 6, 5, 8, 3, 9, 10, 7, 3, 10, 10, 5]\n",
      "no nums = []\n",
      "only even = [2, 2, 10, 6, 8, 10, 10, 10]\n",
      "Nums with zeros in them = [10, 10, 10, 10]\n"
     ]
    }
   ],
   "source": [
    "print(f'nums = {nums}') \n",
    "kall = list(filter( lambda x: True , nums )); print(f'all nums = {kall}')\n",
    "knone = list(filter( lambda x: False , nums )); print(f'no nums = {knone}')\n",
    "keven = list(filter( lambda x: x%2==0 , nums )); print(f'only even = {keven}')\n",
    "kzero = list(filter( lambda x: '0' in str(x) , nums )); print(f'Nums with zeros in them = {kzero}')"
   ]
  },
  {
   "cell_type": "markdown",
   "id": "8638444d-fbf9-4b12-b2ca-dc3c0675a6ab",
   "metadata": {},
   "source": [
    "#### reduce( function, iterable )"
   ]
  },
  {
   "cell_type": "code",
   "execution_count": 33,
   "id": "07be889b-7c33-455a-9d57-a28aaa21656f",
   "metadata": {},
   "outputs": [
    {
     "name": "stdout",
     "output_type": "stream",
     "text": [
      "rnums = [-7, 10, -4, 7, -3]\n",
      "product = -5880\n",
      "is ~~ world ~~ Hello ~~ siht ~~ nohtyP\n",
      "10\n"
     ]
    }
   ],
   "source": [
    "from functools import reduce\n",
    "\n",
    "rnums = gen(5); print(f'rnums = {rnums}')\n",
    "product = reduce(lambda x, y: x*y , rnums); print(f'product = {product}')\n",
    "\n",
    "words = ['Hello', 'world', 'this', 'is', 'Python']\n",
    "sentence = reduce(lambda x, y: x[::-1] + ' ~~ ' + y[::-1], words); print(sentence)\n",
    "\n",
    "numbers = [1, 5, 8, 10, 3, 7]\n",
    "max_result = reduce(lambda a, b: a if a > b else b, numbers); print(max_result)  \n"
   ]
  },
  {
   "cell_type": "markdown",
   "id": "a0586275-c324-47b4-b93b-def73dde8dfe",
   "metadata": {},
   "source": [
    "#### enumerate( iterable, start=0 ))"
   ]
  },
  {
   "cell_type": "code",
   "execution_count": 35,
   "id": "4209ed6d-fe7b-41ff-b6c1-297b343f2694",
   "metadata": {},
   "outputs": [
    {
     "name": "stdout",
     "output_type": "stream",
     "text": [
      "(0, 9)\n",
      "(1, 8)\n",
      "(2, 7)\n",
      "(3, 6)\n"
     ]
    }
   ],
   "source": [
    "for i in enumerate( (x:= tuple( [9,8,7,6] ) )):\n",
    "    print(i) "
   ]
  },
  {
   "cell_type": "code",
   "execution_count": 36,
   "id": "bc16e55c-68f9-48ba-9907-9fc81790cd5b",
   "metadata": {},
   "outputs": [
    {
     "name": "stdout",
     "output_type": "stream",
     "text": [
      "{2: [9, 7, 10], 3: [3, -9, 10], 4: [-7, -5, -2], 5: [-4, -6, 7], 6: [-7, 7, 1]}\n"
     ]
    }
   ],
   "source": [
    "d = {k: v for k, v in enumerate([gen(3) for _ in range(5)] , start=2) }; print(d)"
   ]
  },
  {
   "cell_type": "code",
   "execution_count": 37,
   "id": "931a656f-eb9f-4abd-a45c-4467621964bf",
   "metadata": {},
   "outputs": [
    {
     "name": "stdout",
     "output_type": "stream",
     "text": [
      "(0, (3, 6)) 30\n",
      "(1, (4, 8)) 30\n",
      "(2, (5, 10)) 30\n"
     ]
    }
   ],
   "source": [
    "for i in enumerate( zip( (a:=[3,4,5]) , (b:=[6,8,10]) )):\n",
    "    print(i, a[0]*b[-1]) "
   ]
  },
  {
   "cell_type": "markdown",
   "id": "169bf5d7-3ea3-4a3d-8f85-cf4a6c2e6deb",
   "metadata": {},
   "source": [
    "### format( value , format )"
   ]
  },
  {
   "cell_type": "code",
   "execution_count": 82,
   "id": "08d1a88a-6d4c-4dd4-84bb-f1500502ebba",
   "metadata": {},
   "outputs": [
    {
     "name": "stdout",
     "output_type": "stream",
     "text": [
      "1.23e+03\n",
      "1.23e+03\n"
     ]
    }
   ],
   "source": [
    "num = 1234.5678\n",
    "print(format(num, '.2e'))  \n",
    "print(f'{num:.2e}')"
   ]
  },
  {
   "cell_type": "code",
   "execution_count": 86,
   "id": "7cb5fcbe-9aaa-4481-9660-1d1b33953d1c",
   "metadata": {},
   "outputs": [
    {
     "name": "stdout",
     "output_type": "stream",
     "text": [
      "75.00%\n"
     ]
    }
   ],
   "source": [
    "ratio = 0.75\n",
    "print(format(ratio, '.2%'))  # Output: '75.00%'"
   ]
  },
  {
   "cell_type": "markdown",
   "id": "05a4ff3b-f22e-44a1-8947-5d60e8576cd6",
   "metadata": {},
   "source": [
    "#### F strings"
   ]
  },
  {
   "cell_type": "code",
   "execution_count": 89,
   "id": "6cc5e0c0-2787-49a3-a0c7-1d6cbffbc44d",
   "metadata": {},
   "outputs": [
    {
     "name": "stdout",
     "output_type": "stream",
     "text": [
      "Number = 1350000000.0  \n",
      "which is equal to: 1_350_000_000.0\n",
      "which is equal to: 1,350,000,000.0\n"
     ]
    }
   ],
   "source": [
    "print(f'Number = {(n:= 1.35e+09)}  '); print(f'which is equal to: {n:_}'); print(f'which is equal to: {n:,}')"
   ]
  },
  {
   "cell_type": "code",
   "execution_count": 54,
   "id": "b091f355-9ec6-4797-870a-e9da7111daec",
   "metadata": {},
   "outputs": [
    {
     "name": "stdout",
     "output_type": "stream",
     "text": [
      "Text = text\n",
      ":                text:\n",
      ":        text        :\n",
      ":text                :\n"
     ]
    }
   ],
   "source": [
    "print(f'Text = {( var:= 'text' )}'); print(f':{var:>20}:');print(f':{var:^20}:'); print(f':{var:<20}:')"
   ]
  },
  {
   "cell_type": "code",
   "execution_count": 56,
   "id": "f7b0134e-3898-4deb-a147-9ffbf3039e42",
   "metadata": {},
   "outputs": [
    {
     "name": "stdout",
     "output_type": "stream",
     "text": [
      ":________________text:\n",
      ":________text________:\n",
      ":text________________:\n"
     ]
    }
   ],
   "source": [
    "#filling\n",
    "print(f':{var:_>20}:');print(f':{var:_^20}:'); print(f':{var:_<20}:')"
   ]
  },
  {
   "cell_type": "code",
   "execution_count": 62,
   "id": "725bf4ef-d82e-4514-8666-461f13ba3ddc",
   "metadata": {},
   "outputs": [
    {
     "name": "stdout",
     "output_type": "stream",
     "text": [
      "number  = 356778.3987832498\n",
      "rounded to 4 = 356,778.3988\n",
      "rounded to 2 = 356,778.40\n",
      "rounded = 356,778\n"
     ]
    }
   ],
   "source": [
    "#rounding\n",
    "print(f'number  = {(n := 356778.39878324975940)}'); print(f'rounded to 4 = {n:,.4f}'); print(f'rounded to 2 = {n:,.2f}'); print(f'rounded = {n:,.0f}')\n"
   ]
  },
  {
   "cell_type": "code",
   "execution_count": 74,
   "id": "a15c47b0-dd92-4842-9bc4-475d1afa8044",
   "metadata": {},
   "outputs": [
    {
     "name": "stdout",
     "output_type": "stream",
     "text": [
      " n + m =  9\n",
      "a = 'Alan'\n",
      " bool(a) = True\n"
     ]
    }
   ],
   "source": [
    "n = 4; m = 5; a='Alan'; print(f'{ n + m =  }'); print(f'{a = }'); print(f'{ bool(a) = }')"
   ]
  },
  {
   "cell_type": "markdown",
   "id": "df7e7b5c-3e6f-475a-86af-b2e7b2f02f7c",
   "metadata": {},
   "source": [
    "---"
   ]
  },
  {
   "cell_type": "markdown",
   "id": "3b730898-5b84-4b77-a7f1-998f5a591a54",
   "metadata": {},
   "source": [
    "# One liners"
   ]
  },
  {
   "cell_type": "markdown",
   "id": "fd81b241-84fb-411d-a32c-04c912b49863",
   "metadata": {},
   "source": [
    "### Palindrome in one line"
   ]
  },
  {
   "cell_type": "code",
   "execution_count": 41,
   "id": "0384f30c-ea1d-45e6-8794-7a2afe984750",
   "metadata": {},
   "outputs": [
    {
     "name": "stdout",
     "output_type": "stream",
     "text": [
      "True\n"
     ]
    }
   ],
   "source": [
    "pal = lambda x: True if x[::-1]==x else False; print(pal('NamaN'))"
   ]
  },
  {
   "cell_type": "markdown",
   "id": "b3dc0f88-2fcd-4dcb-8a88-6043e90a30df",
   "metadata": {},
   "source": [
    "### Prime"
   ]
  },
  {
   "cell_type": "code",
   "execution_count": 43,
   "id": "5604a9d3-d818-422d-be30-a393a096340b",
   "metadata": {},
   "outputs": [
    {
     "name": "stdout",
     "output_type": "stream",
     "text": [
      "True\n"
     ]
    }
   ],
   "source": [
    "isprime = lambda x: True if not 0 in [x%i for i in range(2,int(x/2)+1)] else False; print(isprime(7))"
   ]
  },
  {
   "cell_type": "markdown",
   "id": "5e78272c-371f-4440-a543-ac163862ff60",
   "metadata": {},
   "source": [
    "### Squares 1 to n"
   ]
  },
  {
   "cell_type": "code",
   "execution_count": 45,
   "id": "97a9a614-1acc-493c-9f0f-b7843bcf4a25",
   "metadata": {},
   "outputs": [
    {
     "name": "stdout",
     "output_type": "stream",
     "text": [
      "[1, 4, 9, 16, 25, 36, 49, 64, 81, 100]\n"
     ]
    }
   ],
   "source": [
    "squ = lambda n: [x**2 for x in range(1,n+1)]; print(squ(10))"
   ]
  },
  {
   "cell_type": "markdown",
   "id": "695f40fb-13ca-471c-bc20-65c927a6619a",
   "metadata": {},
   "source": [
    "Alternate method"
   ]
  },
  {
   "cell_type": "code",
   "execution_count": 47,
   "id": "14c124bb-d4e0-4ef7-bda3-ae748719f330",
   "metadata": {},
   "outputs": [
    {
     "name": "stdout",
     "output_type": "stream",
     "text": [
      "[1, 4, 9, 16, 25, 36, 49, 64, 81, 100]\n"
     ]
    }
   ],
   "source": [
    "squ = lambda n: list(map(lambda x: x**2, list(range(1,n+1)))); print(squ(10))"
   ]
  },
  {
   "cell_type": "markdown",
   "id": "f6ed9aa9-df53-4e69-8733-b67b7e0ca61d",
   "metadata": {},
   "source": [
    "### Count the number of vowels in a string"
   ]
  },
  {
   "cell_type": "code",
   "execution_count": 49,
   "id": "a7335af9-cc8d-4889-bdac-9c8c94d07995",
   "metadata": {},
   "outputs": [
    {
     "name": "stdout",
     "output_type": "stream",
     "text": [
      "9\n"
     ]
    }
   ],
   "source": [
    "cn = lambda text: sum([text.lower().count(vowel) for vowel in 'aeiou' ]); print(cn('Hi hello this is a message'))"
   ]
  },
  {
   "cell_type": "markdown",
   "id": "d9714a1c-3801-41b3-9e68-12001583e747",
   "metadata": {},
   "source": [
    "### Reverse the words in a sentence"
   ]
  },
  {
   "cell_type": "code",
   "execution_count": 51,
   "id": "c737392e-c2cf-46ad-8cdb-bac2ae8c6cae",
   "metadata": {},
   "outputs": [
    {
     "name": "stdout",
     "output_type": "stream",
     "text": [
      "sarvamm is this Hi\n"
     ]
    }
   ],
   "source": [
    "rv = lambda text: ' '.join( text.split()[::-1] ); print(rv('Hi this is sarvamm'))"
   ]
  },
  {
   "cell_type": "markdown",
   "id": "c5a11106-f77f-460f-82dd-3ccecb323a20",
   "metadata": {},
   "source": [
    "### If all elements in a list are unique"
   ]
  },
  {
   "cell_type": "code",
   "execution_count": 53,
   "id": "2d763125-8526-45fb-861d-4979ec0ed497",
   "metadata": {},
   "outputs": [
    {
     "name": "stdout",
     "output_type": "stream",
     "text": [
      "False\n"
     ]
    }
   ],
   "source": [
    "uniq = lambda x: True if len(set(x)) == len(x) else False; print(uniq([1,2,2]))"
   ]
  },
  {
   "cell_type": "markdown",
   "id": "9ab15553-9e8f-4403-a07b-fd192d7084d6",
   "metadata": {},
   "source": [
    "### Sum of digits"
   ]
  },
  {
   "cell_type": "code",
   "execution_count": 55,
   "id": "6a2265b7-47a6-421f-b965-0219bfee9ac0",
   "metadata": {},
   "outputs": [
    {
     "name": "stdout",
     "output_type": "stream",
     "text": [
      "30\n"
     ]
    }
   ],
   "source": [
    "sumd = lambda x: sum([int(i) for i in str(x)]); print(sumd(34698))"
   ]
  },
  {
   "cell_type": "markdown",
   "id": "a8d55e18-ae07-4f79-8370-c70253aa1ef2",
   "metadata": {},
   "source": [
    "### Find unique elements in a list"
   ]
  },
  {
   "cell_type": "code",
   "execution_count": 57,
   "id": "93423e89-97fd-4de0-9bcf-4093f11b1d53",
   "metadata": {},
   "outputs": [
    {
     "name": "stdout",
     "output_type": "stream",
     "text": [
      "[1, 2, 3]\n"
     ]
    }
   ],
   "source": [
    "finduniq = lambda x: list(set(x)); print(finduniq([1,1,2,2,2,3,3]))"
   ]
  },
  {
   "cell_type": "markdown",
   "id": "4e6761af-968c-45c8-b8d2-5a15c043ae03",
   "metadata": {},
   "source": [
    "### Product of elements in a list"
   ]
  },
  {
   "cell_type": "code",
   "execution_count": 59,
   "id": "f6a79373-47b5-4bef-b640-97edeb91d7aa",
   "metadata": {},
   "outputs": [
    {
     "name": "stdout",
     "output_type": "stream",
     "text": [
      "288\n"
     ]
    }
   ],
   "source": [
    "from functools import reduce; product = lambda iterable: reduce(lambda x, y: x * y, iterable); print(product([4,8,9]))"
   ]
  },
  {
   "cell_type": "markdown",
   "id": "b61992b2-9bb7-4990-a72f-c262a776f695",
   "metadata": {},
   "source": [
    "### Factorial"
   ]
  },
  {
   "cell_type": "code",
   "execution_count": 61,
   "id": "3cd6993f-c672-41d0-81ca-b21be090e747",
   "metadata": {},
   "outputs": [
    {
     "name": "stdout",
     "output_type": "stream",
     "text": [
      "24\n"
     ]
    }
   ],
   "source": [
    "from functools import reduce; factorial=lambda x: reduce(lambda x, y: x * y, list(range(2,x+1))); print(factorial(4))"
   ]
  },
  {
   "cell_type": "markdown",
   "id": "42a3171f-8e16-489d-9161-bf8e700947f2",
   "metadata": {},
   "source": [
    "Using the product funtion defined above"
   ]
  },
  {
   "cell_type": "code",
   "execution_count": 63,
   "id": "45f6e70f-1149-452d-9997-db46fb352467",
   "metadata": {},
   "outputs": [
    {
     "name": "stdout",
     "output_type": "stream",
     "text": [
      "720\n"
     ]
    }
   ],
   "source": [
    "from functools import reduce; factorial=lambda x: product( list(range(2,x+1)) ); print(factorial(6))"
   ]
  },
  {
   "cell_type": "markdown",
   "id": "bf3c2d31-5b45-4fb9-9196-c30b074e2041",
   "metadata": {},
   "source": [
    "---"
   ]
  },
  {
   "cell_type": "markdown",
   "id": "0a4847ec-f01a-4f27-be7e-3c6c8785bda2",
   "metadata": {},
   "source": [
    "# Number systems"
   ]
  },
  {
   "cell_type": "code",
   "execution_count": 66,
   "id": "adf28023-7e46-4760-97c8-8d459f2f99da",
   "metadata": {},
   "outputs": [
    {
     "name": "stdout",
     "output_type": "stream",
     "text": [
      "10 10 10 10\n"
     ]
    }
   ],
   "source": [
    "print(10, 0b1010, 0o12, 0xA); "
   ]
  },
  {
   "cell_type": "code",
   "execution_count": 124,
   "id": "c7e28c29-39b3-4bc6-a5fb-3f333bbfe177",
   "metadata": {},
   "outputs": [
    {
     "name": "stdout",
     "output_type": "stream",
     "text": [
      "for 0b1010101 inverse = -0b1010110\n"
     ]
    }
   ],
   "source": [
    "#inverse of a binary\n",
    "print(f'for {bin(0b1010101)} inverse = {bin(~0b1010101)}')"
   ]
  },
  {
   "cell_type": "markdown",
   "id": "b65d01df-b1cf-4f22-b7af-fd8b21e1e04c",
   "metadata": {},
   "source": [
    "### Any base to Decimal"
   ]
  },
  {
   "cell_type": "code",
   "execution_count": 329,
   "id": "349e8892-6b9f-4261-b489-0265ba40fcfa",
   "metadata": {},
   "outputs": [
    {
     "data": {
      "text/plain": [
       "21"
      ]
     },
     "execution_count": 329,
     "metadata": {},
     "output_type": "execute_result"
    }
   ],
   "source": [
    "b2d = lambda x: int(str(x), 2) ; b2d(10101)"
   ]
  },
  {
   "cell_type": "code",
   "execution_count": 331,
   "id": "c55d4933-1b39-4b02-bb09-19d9506d3e86",
   "metadata": {},
   "outputs": [
    {
     "data": {
      "text/plain": [
       "39"
      ]
     },
     "execution_count": 331,
     "metadata": {},
     "output_type": "execute_result"
    }
   ],
   "source": [
    "o2d = lambda x: int(str(x), 8) ; o2d(47)"
   ]
  },
  {
   "cell_type": "code",
   "execution_count": 333,
   "id": "75a1a166-b6fa-423b-ae1f-6171ea68ea59",
   "metadata": {},
   "outputs": [
    {
     "data": {
      "text/plain": [
       "44015"
      ]
     },
     "execution_count": 333,
     "metadata": {},
     "output_type": "execute_result"
    }
   ],
   "source": [
    "x2d = lambda x: int(str(x), 16) ; x2d('abef')"
   ]
  },
  {
   "cell_type": "code",
   "execution_count": 335,
   "id": "bdca675d-cef2-45f6-abbc-1ef41851acc7",
   "metadata": {},
   "outputs": [
    {
     "data": {
      "text/plain": [
       "10"
      ]
     },
     "execution_count": 335,
     "metadata": {},
     "output_type": "execute_result"
    }
   ],
   "source": [
    "a2d = lambda x,y: b2d(x) if y=='b' else o2d(x) if y=='o' else x2d(x) if y=='x' else print(None); a2d(1010, 'b')"
   ]
  },
  {
   "cell_type": "markdown",
   "id": "2c2b93d1-d172-4fcc-83fe-a09c4e8390ce",
   "metadata": {},
   "source": [
    "### Decimal to any other base"
   ]
  },
  {
   "cell_type": "code",
   "execution_count": 338,
   "id": "17f91cdf-b7b3-462b-9c24-e716881385c5",
   "metadata": {},
   "outputs": [
    {
     "data": {
      "text/plain": [
       "'1010'"
      ]
     },
     "execution_count": 338,
     "metadata": {},
     "output_type": "execute_result"
    }
   ],
   "source": [
    "d2b = lambda x: format(x, 'b') ; d2b(10)"
   ]
  },
  {
   "cell_type": "code",
   "execution_count": 340,
   "id": "ca7dfbca-02d7-4768-880d-d36931c9da6a",
   "metadata": {},
   "outputs": [
    {
     "data": {
      "text/plain": [
       "'25'"
      ]
     },
     "execution_count": 340,
     "metadata": {},
     "output_type": "execute_result"
    }
   ],
   "source": [
    "d2o = lambda x: format(x, 'o') ; d2o(21)"
   ]
  },
  {
   "cell_type": "code",
   "execution_count": 342,
   "id": "c2cebadb-1927-4364-b8a8-2715ac85e4dd",
   "metadata": {},
   "outputs": [
    {
     "data": {
      "text/plain": [
       "'a'"
      ]
     },
     "execution_count": 342,
     "metadata": {},
     "output_type": "execute_result"
    }
   ],
   "source": [
    "d2x = lambda x: format(x, 'x') ; d2x(10)"
   ]
  },
  {
   "cell_type": "code",
   "execution_count": 344,
   "id": "142a69c0-37f2-4b11-8fdf-b361ed1a74fa",
   "metadata": {},
   "outputs": [
    {
     "data": {
      "text/plain": [
       "'1010'"
      ]
     },
     "execution_count": 344,
     "metadata": {},
     "output_type": "execute_result"
    }
   ],
   "source": [
    "d2a = lambda x,y: d2b(x) if y=='b' else d2o(x) if y=='o' else d2x(x) if y=='x' else print(None); d2a(10, 'b')"
   ]
  },
  {
   "cell_type": "markdown",
   "id": "b3d3a84e-4b52-4b51-a561-6c7bab908ee7",
   "metadata": {},
   "source": [
    "### Any base to Any other base"
   ]
  },
  {
   "cell_type": "code",
   "execution_count": 347,
   "id": "146eeb0b-b6f4-4ba2-85c8-84a2e27e78b5",
   "metadata": {},
   "outputs": [],
   "source": [
    "a2a=lambda num, base, to: print(d2a(num, to)) if base =='d' else print(a2d(num, base)) if to =='d' else print( d2a( int(a2d(num, base)) , to) )"
   ]
  },
  {
   "cell_type": "code",
   "execution_count": 349,
   "id": "d43ea022-f07a-4ce0-ae7a-a1f120e03cd3",
   "metadata": {},
   "outputs": [
    {
     "name": "stdout",
     "output_type": "stream",
     "text": [
      "210017\n"
     ]
    }
   ],
   "source": [
    "a2a('1100F', 'x', 'o')"
   ]
  },
  {
   "cell_type": "markdown",
   "id": "2ec78920-f5c0-414c-aede-42c0b5c0ae53",
   "metadata": {},
   "source": [
    "\n",
    "\n",
    "---"
   ]
  },
  {
   "cell_type": "markdown",
   "id": "00801a01-d4ab-42d4-ba06-258eb7b8f618",
   "metadata": {},
   "source": [
    "# Miscellaneous"
   ]
  },
  {
   "cell_type": "markdown",
   "id": "68df97bb-3166-4e1e-afdd-a744a6e53db2",
   "metadata": {},
   "source": [
    "#### Walrus Operator :="
   ]
  },
  {
   "cell_type": "code",
   "execution_count": 83,
   "id": "2dd32220-ea30-4cb9-8785-89f306289f52",
   "metadata": {},
   "outputs": [
    {
     "name": "stdout",
     "output_type": "stream",
     "text": [
      "100 is greater than 20\n"
     ]
    }
   ],
   "source": [
    "tup = 1,5,2,5,52,7,8,100\n",
    "print(f'{walrus} is greater than 20') if (walrus := max(tup) ) > 20 else print(None)"
   ]
  },
  {
   "cell_type": "code",
   "execution_count": 84,
   "id": "cea62b08-381e-4919-b8b6-77718a0a45b9",
   "metadata": {},
   "outputs": [
    {
     "data": {
      "text/plain": [
       "[0, 4, 16, 36, 64]"
      ]
     },
     "execution_count": 84,
     "metadata": {},
     "output_type": "execute_result"
    }
   ],
   "source": [
    "results = [y for x in range(10) if (y := x ** 2) % 2 == 0]; results"
   ]
  },
  {
   "cell_type": "code",
   "execution_count": 85,
   "id": "73dd71e1-464c-48c7-aa5c-9db15c53ad6a",
   "metadata": {},
   "outputs": [
    {
     "name": "stdout",
     "output_type": "stream",
     "text": [
      " 0 just some text 0 \n",
      " 1 just some text 1 \n",
      " 1 just some text 1 \n",
      " 2 just some text 4 \n",
      " 2 just some text 4 \n",
      " 3 just some text 9 \n",
      " 3 just some text 9 \n",
      " 4 just some text 16 \n",
      " 4 just some text 16 \n",
      " 5 just some text 25 \n",
      " 5 just some text 25 \n",
      " 6 just some text 36 \n"
     ]
    }
   ],
   "source": [
    "for i in range(12):\n",
    "    print(f' { (x:= (i+1) // 2) } just some text {x**2} ')"
   ]
  },
  {
   "cell_type": "markdown",
   "id": "ae53d6de-157c-4e24-86b4-98013c298d62",
   "metadata": {},
   "source": [
    "#### Slice"
   ]
  },
  {
   "cell_type": "code",
   "execution_count": 257,
   "id": "3ab5350e-3065-4987-a9c9-7434d8d0722f",
   "metadata": {},
   "outputs": [
    {
     "name": "stdout",
     "output_type": "stream",
     "text": [
      "[6, 8, 10, 12, 14, 16, 18]\n"
     ]
    }
   ],
   "source": [
    "x = slice(2,9)\n",
    "print( ( list(range(2,21,2))[x] ) )"
   ]
  },
  {
   "cell_type": "markdown",
   "id": "1771a89a-afe4-47c5-b188-f6659e4b5773",
   "metadata": {},
   "source": [
    "#### Left shift - Right Shift"
   ]
  },
  {
   "cell_type": "code",
   "execution_count": 89,
   "id": "e1b4c687-62d8-4889-8117-693f7d199dfb",
   "metadata": {},
   "outputs": [
    {
     "name": "stdout",
     "output_type": "stream",
     "text": [
      "10 << 0 = 10   =   0b1010\n",
      "10 << 1 = 20   =   0b10100\n",
      "10 << 2 = 40   =   0b101000\n",
      "10 << 3 = 80   =   0b1010000\n",
      "10 << 4 = 160   =   0b10100000\n",
      "10 << 5 = 320   =   0b101000000\n",
      "10 << 6 = 640   =   0b1010000000\n",
      "10 << 7 = 1280   =   0b10100000000\n",
      "10 << 8 = 2560   =   0b101000000000\n",
      "10 << 9 = 5120   =   0b1010000000000\n"
     ]
    }
   ],
   "source": [
    "for i in range(0,10,):\n",
    "    print(f'10 << {i} = {10<<i}   =   {bin(0b1010 << i)}')"
   ]
  },
  {
   "cell_type": "code",
   "execution_count": 90,
   "id": "d48f2900-1d71-49a1-a751-f4728f1ff85d",
   "metadata": {},
   "outputs": [
    {
     "name": "stdout",
     "output_type": "stream",
     "text": [
      "5120 << 0 = 5120   =   0b1010000000000\n",
      "5120 << 2 = 1280   =   0b10100000000\n",
      "5120 << 4 = 320   =   0b101000000\n",
      "5120 << 6 = 80   =   0b1010000\n",
      "5120 << 8 = 20   =   0b10100\n"
     ]
    }
   ],
   "source": [
    "for i in range(0,10,2):\n",
    "    print(f'5120 << {i} = {5120>>i}   =   {bin(0b1010000000000 >> i)}')"
   ]
  },
  {
   "cell_type": "code",
   "execution_count": 91,
   "id": "59a7399e-64bb-42fd-a3b5-d4db695678e2",
   "metadata": {},
   "outputs": [
    {
     "name": "stdout",
     "output_type": "stream",
     "text": [
      "80\n"
     ]
    }
   ],
   "source": [
    "mul2n = lambda num, n: num << n; print(mul2n(5,4))"
   ]
  },
  {
   "cell_type": "code",
   "execution_count": 92,
   "id": "1e03837d-8188-4de9-8779-5ae3fcb63989",
   "metadata": {},
   "outputs": [
    {
     "name": "stdout",
     "output_type": "stream",
     "text": [
      "4\n"
     ]
    }
   ],
   "source": [
    "div2n = lambda num, n: num >> n; print(div2n(64,4))"
   ]
  },
  {
   "cell_type": "code",
   "execution_count": 93,
   "id": "a18df466-0f6a-4707-8882-7e4471c65920",
   "metadata": {},
   "outputs": [
    {
     "name": "stdout",
     "output_type": "stream",
     "text": [
      "2 | 0\n"
     ]
    }
   ],
   "source": [
    "print(1 << 1 ,'|',  1 >> 1)"
   ]
  },
  {
   "cell_type": "markdown",
   "id": "7eed41db-7ab2-4e3c-8af2-a93a139012e3",
   "metadata": {},
   "source": [
    "#### Any and All"
   ]
  },
  {
   "cell_type": "markdown",
   "id": "2c0c6c2e-e663-4aaf-81b5-e6904507015e",
   "metadata": {},
   "source": [
    "##### any()\n",
    "The any() function returns True if at least one element of the iterable is true. If the iterable is empty, any() returns False."
   ]
  },
  {
   "cell_type": "markdown",
   "id": "55c75aa0-8621-42a9-b304-b01b4e58eb06",
   "metadata": {},
   "source": [
    "##### all()\n",
    "The all() function returns True if all elements of the iterable are true (or if the iterable is empty). If any element is false, all() returns False."
   ]
  },
  {
   "cell_type": "code",
   "execution_count": 97,
   "id": "90123619-2d16-49d9-9c24-1b2ddfd0ac35",
   "metadata": {},
   "outputs": [
    {
     "name": "stdout",
     "output_type": "stream",
     "text": [
      "any = True, all = False\n",
      "any = True, all = True\n"
     ]
    }
   ],
   "source": [
    "booleans = [False, False, True, False]; print(f'any = {any(booleans)}, all = {all(booleans)}')\n",
    "booleans2 = [True for i in range(4)]; print(f'any = {any(booleans2)}, all = {all(booleans2)}')"
   ]
  },
  {
   "cell_type": "code",
   "execution_count": 305,
   "id": "4d0b6b5e-fcfc-4d32-9378-5d30ae9fe37d",
   "metadata": {},
   "outputs": [
    {
     "name": "stdout",
     "output_type": "stream",
     "text": [
      "[0, 1, 0, 1, 1, 1, 1, 1, 0, 0]\n",
      "any?:  True\n",
      "all? :  False \n",
      "\n",
      "[0, 0, 0, 0, 0]\n",
      "any?:  False\n",
      "all? :  False \n",
      "\n",
      "[1, 1, 1, 1, 1]\n",
      "any?:  True\n",
      "all? :  True\n"
     ]
    }
   ],
   "source": [
    "binlist = [rd.choice((0,1)) for i in range(10)]; print(binlist)\n",
    "print('any?: ',any(binlist)); print('all? : ', all(binlist),'\\n')\n",
    "\n",
    "zerolist = [0 for i in range(5)]; print(zerolist); print('any?: ', any(zerolist)); print('all? : ', all(zerolist),'\\n')\n",
    "onelist = [x+1 for x in zerolist]; print(onelist); print('any?: ',any(onelist)); print('all? : ', all(onelist))"
   ]
  },
  {
   "cell_type": "code",
   "execution_count": 179,
   "id": "44381eb2-488a-419e-86c5-5332d04cfd5b",
   "metadata": {},
   "outputs": [
    {
     "name": "stdout",
     "output_type": "stream",
     "text": [
      "False\n",
      "True\n"
     ]
    }
   ],
   "source": [
    "el = []\n",
    "print(any(el)); print(all(el))"
   ]
  },
  {
   "cell_type": "code",
   "execution_count": 297,
   "id": "12f27db3-c2a1-4efe-80f9-0a2fc86aaee1",
   "metadata": {},
   "outputs": [
    {
     "name": "stdout",
     "output_type": "stream",
     "text": [
      "nums = [3, -7, 10, -7, 6, -3, 4, 1, -1, 3]\n",
      "any number greater than 8?: Yes\n",
      "all numbers less than 8?: No\n"
     ]
    }
   ],
   "source": [
    "nums = gen(10); print(f'nums = {nums}')\n",
    "res = any([x>8 for x in nums]); print(f'any number greater than 8?: {  ['No', 'Yes'][res]  }')\n",
    "res2 = all( [x<8 for x in nums] ); print(f'all numbers less than 8?: {  ['No', 'Yes'][res2]  }')"
   ]
  },
  {
   "cell_type": "markdown",
   "id": "860f041c-d15e-4784-b1d7-3caf3cfe9c58",
   "metadata": {},
   "source": [
    "#### Booleans"
   ]
  },
  {
   "cell_type": "code",
   "execution_count": 232,
   "id": "badf8196-fe50-4be4-b7c9-62cbaa4c9d49",
   "metadata": {},
   "outputs": [
    {
     "name": "stdout",
     "output_type": "stream",
     "text": [
      "T + T = 2\n",
      "T OR T = True\n",
      "F + F = 0\n",
      "F OR F = False\n",
      "T + F = 1\n",
      "T AND T = True\n",
      "F AND T = False\n",
      "not T = False\n",
      "not F = True\n",
      "T == T = True\n",
      "T != F = True\n"
     ]
    }
   ],
   "source": [
    "print(f'T + T = {True + True}'); print(f'T OR T = {True or True}');print(f'F + F = {False + False}');print(f'F OR F = {False or False}');\n",
    "print(f'T + F = {True + False}');print(f'T AND T = {True and True}');print(f'F AND T = {False and True}');print(f'not T = {not True}')\n",
    "print(f'not F = {not False}');print(f'T == T = {True == True}');print(f'T != F = {True != False}')"
   ]
  },
  {
   "cell_type": "code",
   "execution_count": 289,
   "id": "b908b9c8-6016-4f57-9e64-a527cf0f3410",
   "metadata": {},
   "outputs": [
    {
     "name": "stdout",
     "output_type": "stream",
     "text": [
      "True OR False: True\n",
      "True AND False: False\n",
      "True + False: 1\n",
      "True - False: 1\n",
      "False - True: -1\n"
     ]
    }
   ],
   "source": [
    "print(f'True OR False: {True | False}\\nTrue AND False: {True & False}\\nTrue + False: {True + False}\\nTrue - False: {True - False}')\n",
    "print(f'False - True: {False - True}')"
   ]
  },
  {
   "cell_type": "code",
   "execution_count": 209,
   "id": "d8f1c9ef-c6c2-4eca-87e8-eafc475f3a86",
   "metadata": {},
   "outputs": [
    {
     "name": "stdout",
     "output_type": "stream",
     "text": [
      "truths = [False, False, True, False, False, False, True, False, True, True]\n",
      "sum of truths = 4\n",
      "product of truths = 0\n",
      "sorted = [False, False, False, False, False, False, True, True, True, True]\n"
     ]
    }
   ],
   "source": [
    "truths = gent(10); print(f'truths = {truths}')\n",
    "print( f'sum of truths = {sum(truths)}' ); print( f'product of truths = {product(truths)}' )\n",
    "truths.sort(); print(f'sorted = {truths}')"
   ]
  },
  {
   "cell_type": "code",
   "execution_count": 273,
   "id": "f7f62f6f-ca1a-4906-bc7b-7a284663a415",
   "metadata": {},
   "outputs": [
    {
     "name": "stdout",
     "output_type": "stream",
     "text": [
      "yes\n",
      "yes\n",
      "no\n",
      "yes\n",
      "no\n"
     ]
    }
   ],
   "source": [
    "for i in range(5):\n",
    "    print( ['no', 'yes'][rd.choice((True, False))] )"
   ]
  },
  {
   "cell_type": "code",
   "execution_count": 275,
   "id": "117c8e4b-41cb-4169-9e80-4e2b695fdc8c",
   "metadata": {},
   "outputs": [
    {
     "name": "stdout",
     "output_type": "stream",
     "text": [
      "True\n"
     ]
    }
   ],
   "source": [
    "series = True, False, True, False    # <-- Tuple containing boolean values (tuples are defined by commas not braces)\n",
    "if series:                          # <-- Checks if tuple is empty or not, returns True\n",
    "    print(series[False])           # <-- Boolean as an index (False = 0, True = 1)  \n",
    "                                  # Prints first element of series which is True"
   ]
  },
  {
   "cell_type": "code",
   "execution_count": 277,
   "id": "3d40fd4f-bb45-4889-901e-753f099927dc",
   "metadata": {},
   "outputs": [
    {
     "name": "stdout",
     "output_type": "stream",
     "text": [
      "2\n"
     ]
    }
   ],
   "source": [
    "x = 11;\n",
    "print( [1,2,3,4] [( (x>=5) * 3 ) -2] ) # <-- [1,2,3,4] [ (True*3) - 2 ]\n",
    "                                      # <-- [1,2,3,4] [ 3 - 2 ]\n",
    "                                     # <-- [1,2,3,4] [ 1 ] (prints second element which is 2)"
   ]
  },
  {
   "cell_type": "markdown",
   "id": "0e00f1bc-64f6-4a21-b5f3-11e88cb40fa3",
   "metadata": {},
   "source": [
    "#### Incrementing a number"
   ]
  },
  {
   "cell_type": "code",
   "execution_count": 126,
   "id": "0d0c63ab-f0a4-44fa-864c-ebbdcac4c4aa",
   "metadata": {},
   "outputs": [
    {
     "name": "stdout",
     "output_type": "stream",
     "text": [
      "for 10 increment is 11\n"
     ]
    }
   ],
   "source": [
    "print(f'for {(n:=10)} increment is {-~n}')"
   ]
  },
  {
   "cell_type": "code",
   "execution_count": 130,
   "id": "d63714f8-d76d-4a96-bb69-080e540a19cc",
   "metadata": {},
   "outputs": [
    {
     "name": "stdout",
     "output_type": "stream",
     "text": [
      "3\n"
     ]
    }
   ],
   "source": [
    "print(f'{-~(-~(-~(k:=0)))}')"
   ]
  },
  {
   "cell_type": "code",
   "execution_count": null,
   "id": "b70fbf12-712b-4e69-abb0-bf2f87516bea",
   "metadata": {},
   "outputs": [],
   "source": []
  }
 ],
 "metadata": {
  "kernelspec": {
   "display_name": "Python 3 (ipykernel)",
   "language": "python",
   "name": "python3"
  },
  "language_info": {
   "codemirror_mode": {
    "name": "ipython",
    "version": 3
   },
   "file_extension": ".py",
   "mimetype": "text/x-python",
   "name": "python",
   "nbconvert_exporter": "python",
   "pygments_lexer": "ipython3",
   "version": "3.12.4"
  }
 },
 "nbformat": 4,
 "nbformat_minor": 5
}
