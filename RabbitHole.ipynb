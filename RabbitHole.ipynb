{
 "cells": [
  {
   "cell_type": "code",
   "execution_count": 3,
   "id": "3d2d6bb7-792d-40e5-8ad0-6a8f82501cbe",
   "metadata": {},
   "outputs": [
    {
     "name": "stdout",
     "output_type": "stream",
     "text": [
      "0 1 2 3 4 5 6 7 8 9 10\n"
     ]
    }
   ],
   "source": [
    "print(*(range(11)))"
   ]
  },
  {
   "cell_type": "code",
   "execution_count": 4,
   "id": "8dd01d60-7100-45c3-9fd5-07d7373d4eb2",
   "metadata": {},
   "outputs": [
    {
     "name": "stdout",
     "output_type": "stream",
     "text": [
      "<class 'bool'>\n"
     ]
    }
   ],
   "source": [
    "print(type(5>2))"
   ]
  },
  {
   "cell_type": "code",
   "execution_count": 5,
   "id": "3ae33c5d-1441-42c9-b0ae-087c743b2ca5",
   "metadata": {},
   "outputs": [
    {
     "name": "stdout",
     "output_type": "stream",
     "text": [
      "-2\n"
     ]
    }
   ],
   "source": [
    "print(~1)"
   ]
  },
  {
   "cell_type": "code",
   "execution_count": 6,
   "id": "e67333a4-a92c-4726-b9ea-f325f4a872ab",
   "metadata": {},
   "outputs": [
    {
     "data": {
      "text/plain": [
       "5"
      ]
     },
     "execution_count": 6,
     "metadata": {},
     "output_type": "execute_result"
    }
   ],
   "source": [
    "True*3 + 2"
   ]
  },
  {
   "cell_type": "code",
   "execution_count": 7,
   "id": "83ee75d6-79a4-4c01-b54b-66fc5c1182d2",
   "metadata": {},
   "outputs": [
    {
     "name": "stdout",
     "output_type": "stream",
     "text": [
      "(2, 2, 3)\n"
     ]
    }
   ],
   "source": [
    "t = 2,2,3\n",
    "print(t)"
   ]
  },
  {
   "cell_type": "code",
   "execution_count": 8,
   "id": "688bb5a1-c1d7-4959-9d67-ef4caa2ab5ad",
   "metadata": {},
   "outputs": [
    {
     "name": "stdout",
     "output_type": "stream",
     "text": [
      "(2, 3, 4), <class 'tuple'>\n"
     ]
    }
   ],
   "source": [
    "print(f'{ (x:=(2,3,4)) }, {type(x)}')"
   ]
  },
  {
   "cell_type": "code",
   "execution_count": 9,
   "id": "0cb9483b-ac3a-4c30-9316-5fa13347a882",
   "metadata": {},
   "outputs": [],
   "source": [
    "def xyz():\n",
    "  pass"
   ]
  },
  {
   "cell_type": "code",
   "execution_count": 10,
   "id": "929c4c3d-c07d-4955-b1fa-4ebda0a70b42",
   "metadata": {},
   "outputs": [
    {
     "name": "stdout",
     "output_type": "stream",
     "text": [
      "[<function xyz at 0x000001C48923ACA0>]\n"
     ]
    }
   ],
   "source": [
    "print([xyz])"
   ]
  },
  {
   "cell_type": "code",
   "execution_count": 11,
   "id": "718aabed-dc4a-4281-b583-7a40b1a0ade3",
   "metadata": {},
   "outputs": [
    {
     "name": "stdout",
     "output_type": "stream",
     "text": [
      "[<built-in function print>]\n"
     ]
    }
   ],
   "source": [
    "print([print])"
   ]
  },
  {
   "cell_type": "code",
   "execution_count": 12,
   "id": "6e1f6a90-e2df-4036-ae07-85930e895ef8",
   "metadata": {},
   "outputs": [
    {
     "name": "stdout",
     "output_type": "stream",
     "text": [
      "\n"
     ]
    },
    {
     "data": {
      "text/plain": [
       "'None'"
      ]
     },
     "execution_count": 12,
     "metadata": {},
     "output_type": "execute_result"
    }
   ],
   "source": [
    "str(print())"
   ]
  },
  {
   "cell_type": "code",
   "execution_count": 13,
   "id": "b3700361-b6ec-479e-ad42-72aa07e1bd18",
   "metadata": {},
   "outputs": [
    {
     "data": {
      "text/plain": [
       "'<built-in function print>'"
      ]
     },
     "execution_count": 13,
     "metadata": {},
     "output_type": "execute_result"
    }
   ],
   "source": [
    "str(print)"
   ]
  },
  {
   "cell_type": "code",
   "execution_count": 15,
   "id": "0abfa870-8a1f-4aa3-ba1a-fff88602526b",
   "metadata": {},
   "outputs": [
    {
     "data": {
      "text/plain": [
       "False"
      ]
     },
     "execution_count": 15,
     "metadata": {},
     "output_type": "execute_result"
    }
   ],
   "source": [
    "bool(None)"
   ]
  },
  {
   "cell_type": "code",
   "execution_count": 17,
   "id": "1932dbdd-ad31-4742-86f0-aefd1c2f11bc",
   "metadata": {},
   "outputs": [
    {
     "data": {
      "text/plain": [
       "-1"
      ]
     },
     "execution_count": 17,
     "metadata": {},
     "output_type": "execute_result"
    }
   ],
   "source": [
    "~int(bool(None))"
   ]
  },
  {
   "cell_type": "code",
   "execution_count": 18,
   "id": "a542d4a1-a0cf-455d-87af-31d362c91af0",
   "metadata": {},
   "outputs": [
    {
     "data": {
      "text/plain": [
       "False"
      ]
     },
     "execution_count": 18,
     "metadata": {},
     "output_type": "execute_result"
    }
   ],
   "source": [
    "bool([])"
   ]
  },
  {
   "cell_type": "code",
   "execution_count": 19,
   "id": "91c0d0b4-3f60-44ee-ab40-a82b1ead59dd",
   "metadata": {},
   "outputs": [
    {
     "data": {
      "text/plain": [
       "False"
      ]
     },
     "execution_count": 19,
     "metadata": {},
     "output_type": "execute_result"
    }
   ],
   "source": [
    "bool('')"
   ]
  },
  {
   "cell_type": "code",
   "execution_count": 20,
   "id": "5a7ae60a-79da-4854-8637-e038438d8fbb",
   "metadata": {},
   "outputs": [
    {
     "data": {
      "text/plain": [
       "True"
      ]
     },
     "execution_count": 20,
     "metadata": {},
     "output_type": "execute_result"
    }
   ],
   "source": [
    "bool(xyz)"
   ]
  },
  {
   "cell_type": "code",
   "execution_count": 21,
   "id": "8e308e0e-92f4-4358-be00-f97cc6d6f57d",
   "metadata": {},
   "outputs": [
    {
     "data": {
      "text/plain": [
       "False"
      ]
     },
     "execution_count": 21,
     "metadata": {},
     "output_type": "execute_result"
    }
   ],
   "source": [
    "bool(xyz())"
   ]
  },
  {
   "cell_type": "code",
   "execution_count": 22,
   "id": "58a073fc-b790-4700-b7fe-7687378affa1",
   "metadata": {},
   "outputs": [
    {
     "name": "stdout",
     "output_type": "stream",
     "text": [
      "y\n"
     ]
    },
    {
     "data": {
      "text/plain": [
       "False"
      ]
     },
     "execution_count": 22,
     "metadata": {},
     "output_type": "execute_result"
    }
   ],
   "source": [
    "bool(print('y'))"
   ]
  },
  {
   "cell_type": "code",
   "execution_count": 23,
   "id": "e30d6c59-ac87-46ee-a437-72687471072b",
   "metadata": {},
   "outputs": [
    {
     "data": {
      "text/plain": [
       "True"
      ]
     },
     "execution_count": 23,
     "metadata": {},
     "output_type": "execute_result"
    }
   ],
   "source": [
    "bool(print)"
   ]
  },
  {
   "cell_type": "code",
   "execution_count": 24,
   "id": "f3ca5ed7-86e2-4093-a964-0abc60a790fb",
   "metadata": {},
   "outputs": [
    {
     "data": {
      "text/plain": [
       "True"
      ]
     },
     "execution_count": 24,
     "metadata": {},
     "output_type": "execute_result"
    }
   ],
   "source": [
    "bool(bool)"
   ]
  },
  {
   "cell_type": "code",
   "execution_count": 25,
   "id": "f124d53c-0316-4837-a2eb-d3188c0b8d85",
   "metadata": {},
   "outputs": [
    {
     "data": {
      "text/plain": [
       "False"
      ]
     },
     "execution_count": 25,
     "metadata": {},
     "output_type": "execute_result"
    }
   ],
   "source": [
    "bool(bool())"
   ]
  },
  {
   "cell_type": "markdown",
   "id": "2f888717-c333-4b47-b765-0f0449372b2d",
   "metadata": {},
   "source": [
    "---"
   ]
  },
  {
   "cell_type": "code",
   "execution_count": 26,
   "id": "f29ac218-bbb5-43f2-aa57-97216958f331",
   "metadata": {},
   "outputs": [
    {
     "data": {
      "text/plain": [
       "True"
      ]
     },
     "execution_count": 26,
     "metadata": {},
     "output_type": "execute_result"
    }
   ],
   "source": [
    "bool(bool(bool))"
   ]
  },
  {
   "cell_type": "code",
   "execution_count": 27,
   "id": "08635669-8597-48e6-a2a9-a8096e17b5ec",
   "metadata": {},
   "outputs": [
    {
     "data": {
      "text/plain": [
       "True"
      ]
     },
     "execution_count": 27,
     "metadata": {},
     "output_type": "execute_result"
    }
   ],
   "source": [
    "bool(lambda x: None)"
   ]
  },
  {
   "cell_type": "code",
   "execution_count": 3,
   "id": "fe59f30a-01df-48be-b8cb-b3c2e43dd1e6",
   "metadata": {},
   "outputs": [
    {
     "name": "stdout",
     "output_type": "stream",
     "text": [
      "True\n"
     ]
    }
   ],
   "source": [
    "print('A' < 'Z')"
   ]
  },
  {
   "cell_type": "code",
   "execution_count": 4,
   "id": "b7b81c39-eeb4-4cb1-9a9b-b991ce4d3cda",
   "metadata": {},
   "outputs": [
    {
     "name": "stdout",
     "output_type": "stream",
     "text": [
      "65 90\n"
     ]
    }
   ],
   "source": [
    "print(ord('A'), ord('Z'))"
   ]
  },
  {
   "cell_type": "code",
   "execution_count": 6,
   "id": "3628ee0a-8801-49a9-b628-e5e89aa4a14d",
   "metadata": {},
   "outputs": [
    {
     "name": "stdout",
     "output_type": "stream",
     "text": [
      "[<built-in function print>, <class 'list'>, <class 'tuple'>, <class 'set'>, <class 'int'>, <class 'float'>]\n"
     ]
    }
   ],
   "source": [
    "print([print, list, tuple, set, int, float])"
   ]
  },
  {
   "cell_type": "code",
   "execution_count": 9,
   "id": "9f5226be-c427-41b9-b315-341ff11221f8",
   "metadata": {},
   "outputs": [
    {
     "data": {
      "text/plain": [
       "13"
      ]
     },
     "execution_count": 9,
     "metadata": {},
     "output_type": "execute_result"
    }
   ],
   "source": [
    "x : float = 13; x"
   ]
  },
  {
   "cell_type": "code",
   "execution_count": 10,
   "id": "e30aa3bb-3b64-4244-9023-056891407512",
   "metadata": {},
   "outputs": [
    {
     "name": "stdout",
     "output_type": "stream",
     "text": [
      "True\n"
     ]
    }
   ],
   "source": [
    "print( True | False )"
   ]
  },
  {
   "cell_type": "code",
   "execution_count": 11,
   "id": "59959b6c-fc47-48b9-bf90-701b7b2051e8",
   "metadata": {},
   "outputs": [
    {
     "name": "stdout",
     "output_type": "stream",
     "text": [
      "False\n"
     ]
    }
   ],
   "source": [
    "print( True & False )"
   ]
  },
  {
   "cell_type": "code",
   "execution_count": 12,
   "id": "c9c702f7-1fcf-40e8-8c87-93ae38170f36",
   "metadata": {},
   "outputs": [
    {
     "name": "stdout",
     "output_type": "stream",
     "text": [
      "False\n"
     ]
    }
   ],
   "source": [
    "print( not True )"
   ]
  },
  {
   "cell_type": "code",
   "execution_count": 2,
   "id": "9091e0a2-84db-4165-9ee3-479c6010fc78",
   "metadata": {},
   "outputs": [
    {
     "name": "stdout",
     "output_type": "stream",
     "text": [
      "0\n",
      "1\n",
      "2\n",
      "3\n",
      "4\n",
      "5\n",
      "6\n",
      "7\n",
      "8\n",
      "9\n",
      "10\n"
     ]
    }
   ],
   "source": [
    "n=0\n",
    "while n<11:\n",
    "    print(n)\n",
    "    n=-~n"
   ]
  },
  {
   "cell_type": "code",
   "execution_count": 7,
   "id": "99efc34e-f731-401e-ac2a-5c9b95d65a98",
   "metadata": {},
   "outputs": [
    {
     "name": "stdout",
     "output_type": "stream",
     "text": [
      "1\n",
      "CPU times: total: 0 ns\n",
      "Wall time: 719 μs\n"
     ]
    }
   ],
   "source": [
    "%%time\n",
    "n=0\n",
    "n+=1\n",
    "print(n)"
   ]
  },
  {
   "cell_type": "code",
   "execution_count": 6,
   "id": "c06ff7bb-96ac-44ee-9323-4190db7dcbfb",
   "metadata": {},
   "outputs": [
    {
     "name": "stdout",
     "output_type": "stream",
     "text": [
      "1\n",
      "CPU times: total: 0 ns\n",
      "Wall time: 1.43 ms\n"
     ]
    }
   ],
   "source": [
    "%%time\n",
    "n=0\n",
    "n=-~n\n",
    "print(n)"
   ]
  },
  {
   "cell_type": "code",
   "execution_count": null,
   "id": "3ce62ca1-08ea-4d27-92e4-6b46d070b826",
   "metadata": {},
   "outputs": [],
   "source": []
  }
 ],
 "metadata": {
  "kernelspec": {
   "display_name": "Python 3 (ipykernel)",
   "language": "python",
   "name": "python3"
  },
  "language_info": {
   "codemirror_mode": {
    "name": "ipython",
    "version": 3
   },
   "file_extension": ".py",
   "mimetype": "text/x-python",
   "name": "python",
   "nbconvert_exporter": "python",
   "pygments_lexer": "ipython3",
   "version": "3.13.1"
  }
 },
 "nbformat": 4,
 "nbformat_minor": 5
}
